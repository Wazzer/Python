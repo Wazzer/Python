{
  "nbformat": 4,
  "nbformat_minor": 0,
  "metadata": {
    "colab": {
      "name": "Untitled2.ipynb",
      "version": "0.3.2",
      "provenance": [],
      "include_colab_link": true
    },
    "kernelspec": {
      "name": "python3",
      "display_name": "Python 3"
    }
  },
  "cells": [
    {
      "cell_type": "markdown",
      "metadata": {
        "id": "view-in-github",
        "colab_type": "text"
      },
      "source": [
        "<a href=\"https://colab.research.google.com/github/Wazzer/Python/blob/master/trans.ipynb\" target=\"_parent\"><img src=\"https://colab.research.google.com/assets/colab-badge.svg\" alt=\"Open In Colab\"/></a>"
      ]
    },
    {
      "cell_type": "code",
      "metadata": {
        "id": "fDqJqolxTwSY",
        "colab_type": "code",
        "colab": {}
      },
      "source": [
        "import pandas as pd"
      ],
      "execution_count": 0,
      "outputs": []
    },
    {
      "cell_type": "code",
      "metadata": {
        "id": "7AWVXjIE9srW",
        "colab_type": "code",
        "colab": {}
      },
      "source": [
        "\n",
        "url = (\"https://warren-trans.s3-eu-west-1.amazonaws.com/Transactions.csv\")\n",
        "df = pd.read_csv(url)\n",
        "df = df.drop('OriginalDescription', 1)\n",
        "df = df.rename(columns={\"CurrentDescription\": \"Description\", \"L1Tag\": \"L1\", \"L2Tag\": \"L2\", \"L3Tag\": \"L3\"})\n",
        "df['Date'] =  pd.to_datetime(df['Date'],format='%Y-%m-%d')\n",
        "df = df.sort_values('Date',ascending=1)"
      ],
      "execution_count": 0,
      "outputs": []
    },
    {
      "cell_type": "code",
      "metadata": {
        "id": "uRb2MjFZULzD",
        "colab_type": "code",
        "colab": {}
      },
      "source": [
        "%load_ext google.colab.data_table"
      ],
      "execution_count": 0,
      "outputs": []
    },
    {
      "cell_type": "code",
      "metadata": {
        "id": "DsEYK8ZuULx4",
        "colab_type": "code",
        "colab": {
          "base_uri": "https://localhost:8080/",
          "height": 288
        },
        "outputId": "96bbe1cc-3b2c-4e88-8ab2-29363d5b7131"
      },
      "source": [
        "df.tail(10)"
      ],
      "execution_count": 25,
      "outputs": [
        {
          "output_type": "execute_result",
          "data": {
            "application/vnd.google.colaboratory.module+javascript": "\n      import \"https://ssl.gstatic.com/colaboratory/data_table/9e554b27bdd509f3/data_table.js\";\n\n      window.createDataTable({\n        data: [[{\n            'v': 1811,\n            'f': \"1811\",\n        },\n\"Monzo\",\n\"2019-09-09 00:00:00\",\n\"Capital One\",\n{\n            'v': -2.66,\n            'f': \"-2.66\",\n        },\n\"Enjoyment\",\n\"Dining or Going Out\",\n\"Work canteen\"],\n [{\n            'v': 1812,\n            'f': \"1812\",\n        },\n\"Monzo\",\n\"2019-09-09 00:00:00\",\n\"Monzo\",\n{\n            'v': 300.0,\n            'f': \"300.0\",\n        },\n\"Transfers\",\n\"Other account\",\n\"To Monzo\"],\n [{\n            'v': 1571,\n            'f': \"1571\",\n        },\n\"Current\",\n\"2019-09-10 00:00:00\",\n\"Octopus\",\n{\n            'v': 39.63,\n            'f': \"39.63\",\n        },\n\"Income\",\n\"Irregular Income or Gifts\",\n\"Rewards/cashback\"],\n [{\n            'v': 1813,\n            'f': \"1813\",\n        },\n\"Monzo\",\n\"2019-09-10 00:00:00\",\n\"Capital One\",\n{\n            'v': -2.66,\n            'f': \"-2.66\",\n        },\n\"Enjoyment\",\n\"Dining or Going Out\",\n\"Work canteen\"],\n [{\n            'v': 1572,\n            'f': \"1572\",\n        },\n\"Current\",\n\"2019-09-11 00:00:00\",\n\"Penny Cigs\",\n{\n            'v': -105.0,\n            'f': \"-105.0\",\n        },\n\"Enjoyment\",\n\"Cigarettes\",\nNaN],\n [{\n            'v': 1573,\n            'f': \"1573\",\n        },\n\"Current\",\n\"2019-09-12 00:00:00\",\n\"Programmes sold\",\n{\n            'v': 100.0,\n            'f': \"100.0\",\n        },\n\"Income\",\n\"Irregular Income or Gifts\",\n\"Sale - other\"],\n [{\n            'v': 1814,\n            'f': \"1814\",\n        },\n\"Monzo\",\n\"2019-09-13 00:00:00\",\n\"Aldi\",\n{\n            'v': -10.93,\n            'f': \"-10.93\",\n        },\n\"Home\",\n\"Food, Groceries, Household\",\nNaN],\n [{\n            'v': 1574,\n            'f': \"1574\",\n        },\n\"Current\",\n\"2019-09-13 00:00:00\",\n\"Jack\",\n{\n            'v': -200.0,\n            'f': \"-200.0\",\n        },\n\"Bills\",\n\"Kids\",\nNaN],\n [{\n            'v': 1576,\n            'f': \"1576\",\n        },\n\"Current\",\n\"2019-09-16 00:00:00\",\n\"Three mobile\",\n{\n            'v': -17.4,\n            'f': \"-17.4\",\n        },\n\"Bills\",\n\"Phone or Internet\",\n\"Mobile Warren\"],\n [{\n            'v': 1575,\n            'f': \"1575\",\n        },\n\"Current\",\n\"2019-09-16 00:00:00\",\n\"Barclays\",\n{\n            'v': -204.47,\n            'f': \"-204.47\",\n        },\n\"Bills\",\n\"Mortgage or Rent\",\n\"Mortgage payment\"]],\n        columns: [[\"number\", \"index\"], [\"string\", \"Account\"], [\"string\", \"Date\"], [\"string\", \"Description\"], [\"number\", \"Amount\"], [\"string\", \"L1\"], [\"string\", \"L2\"], [\"string\", \"L3\"]],\n        columnOptions: [{\"width\": \"1px\", \"className\": \"index_column\"}],\n        rowsPerPage: 25,\n        helpUrl: \"https://colab.research.google.com/notebooks/data_table.ipynb\",\n      });\n    ",
            "text/html": [
              "<div>\n",
              "<style scoped>\n",
              "    .dataframe tbody tr th:only-of-type {\n",
              "        vertical-align: middle;\n",
              "    }\n",
              "\n",
              "    .dataframe tbody tr th {\n",
              "        vertical-align: top;\n",
              "    }\n",
              "\n",
              "    .dataframe thead th {\n",
              "        text-align: right;\n",
              "    }\n",
              "</style>\n",
              "<table border=\"1\" class=\"dataframe\">\n",
              "  <thead>\n",
              "    <tr style=\"text-align: right;\">\n",
              "      <th></th>\n",
              "      <th>Account</th>\n",
              "      <th>Date</th>\n",
              "      <th>Description</th>\n",
              "      <th>Amount</th>\n",
              "      <th>L1</th>\n",
              "      <th>L2</th>\n",
              "      <th>L3</th>\n",
              "    </tr>\n",
              "  </thead>\n",
              "  <tbody>\n",
              "    <tr>\n",
              "      <th>1811</th>\n",
              "      <td>Monzo</td>\n",
              "      <td>2019-09-09</td>\n",
              "      <td>Capital One</td>\n",
              "      <td>-2.66</td>\n",
              "      <td>Enjoyment</td>\n",
              "      <td>Dining or Going Out</td>\n",
              "      <td>Work canteen</td>\n",
              "    </tr>\n",
              "    <tr>\n",
              "      <th>1812</th>\n",
              "      <td>Monzo</td>\n",
              "      <td>2019-09-09</td>\n",
              "      <td>Monzo</td>\n",
              "      <td>300.00</td>\n",
              "      <td>Transfers</td>\n",
              "      <td>Other account</td>\n",
              "      <td>To Monzo</td>\n",
              "    </tr>\n",
              "    <tr>\n",
              "      <th>1571</th>\n",
              "      <td>Current</td>\n",
              "      <td>2019-09-10</td>\n",
              "      <td>Octopus</td>\n",
              "      <td>39.63</td>\n",
              "      <td>Income</td>\n",
              "      <td>Irregular Income or Gifts</td>\n",
              "      <td>Rewards/cashback</td>\n",
              "    </tr>\n",
              "    <tr>\n",
              "      <th>1813</th>\n",
              "      <td>Monzo</td>\n",
              "      <td>2019-09-10</td>\n",
              "      <td>Capital One</td>\n",
              "      <td>-2.66</td>\n",
              "      <td>Enjoyment</td>\n",
              "      <td>Dining or Going Out</td>\n",
              "      <td>Work canteen</td>\n",
              "    </tr>\n",
              "    <tr>\n",
              "      <th>1572</th>\n",
              "      <td>Current</td>\n",
              "      <td>2019-09-11</td>\n",
              "      <td>Penny Cigs</td>\n",
              "      <td>-105.00</td>\n",
              "      <td>Enjoyment</td>\n",
              "      <td>Cigarettes</td>\n",
              "      <td>NaN</td>\n",
              "    </tr>\n",
              "    <tr>\n",
              "      <th>1573</th>\n",
              "      <td>Current</td>\n",
              "      <td>2019-09-12</td>\n",
              "      <td>Programmes sold</td>\n",
              "      <td>100.00</td>\n",
              "      <td>Income</td>\n",
              "      <td>Irregular Income or Gifts</td>\n",
              "      <td>Sale - other</td>\n",
              "    </tr>\n",
              "    <tr>\n",
              "      <th>1814</th>\n",
              "      <td>Monzo</td>\n",
              "      <td>2019-09-13</td>\n",
              "      <td>Aldi</td>\n",
              "      <td>-10.93</td>\n",
              "      <td>Home</td>\n",
              "      <td>Food, Groceries, Household</td>\n",
              "      <td>NaN</td>\n",
              "    </tr>\n",
              "    <tr>\n",
              "      <th>1574</th>\n",
              "      <td>Current</td>\n",
              "      <td>2019-09-13</td>\n",
              "      <td>Jack</td>\n",
              "      <td>-200.00</td>\n",
              "      <td>Bills</td>\n",
              "      <td>Kids</td>\n",
              "      <td>NaN</td>\n",
              "    </tr>\n",
              "    <tr>\n",
              "      <th>1576</th>\n",
              "      <td>Current</td>\n",
              "      <td>2019-09-16</td>\n",
              "      <td>Three mobile</td>\n",
              "      <td>-17.40</td>\n",
              "      <td>Bills</td>\n",
              "      <td>Phone or Internet</td>\n",
              "      <td>Mobile Warren</td>\n",
              "    </tr>\n",
              "    <tr>\n",
              "      <th>1575</th>\n",
              "      <td>Current</td>\n",
              "      <td>2019-09-16</td>\n",
              "      <td>Barclays</td>\n",
              "      <td>-204.47</td>\n",
              "      <td>Bills</td>\n",
              "      <td>Mortgage or Rent</td>\n",
              "      <td>Mortgage payment</td>\n",
              "    </tr>\n",
              "  </tbody>\n",
              "</table>\n",
              "</div>"
            ],
            "text/plain": [
              "      Account       Date  ...                          L2                L3\n",
              "1811    Monzo 2019-09-09  ...         Dining or Going Out      Work canteen\n",
              "1812    Monzo 2019-09-09  ...               Other account          To Monzo\n",
              "1571  Current 2019-09-10  ...   Irregular Income or Gifts  Rewards/cashback\n",
              "1813    Monzo 2019-09-10  ...         Dining or Going Out      Work canteen\n",
              "1572  Current 2019-09-11  ...                  Cigarettes               NaN\n",
              "1573  Current 2019-09-12  ...   Irregular Income or Gifts      Sale - other\n",
              "1814    Monzo 2019-09-13  ...  Food, Groceries, Household               NaN\n",
              "1574  Current 2019-09-13  ...                        Kids               NaN\n",
              "1576  Current 2019-09-16  ...           Phone or Internet     Mobile Warren\n",
              "1575  Current 2019-09-16  ...            Mortgage or Rent  Mortgage payment\n",
              "\n",
              "[10 rows x 7 columns]"
            ]
          },
          "metadata": {
            "tags": []
          },
          "execution_count": 25
        }
      ]
    }
  ]
}